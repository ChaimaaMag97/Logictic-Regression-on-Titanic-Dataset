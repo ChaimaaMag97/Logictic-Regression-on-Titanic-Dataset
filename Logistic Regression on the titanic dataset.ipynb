{
 "cells": [
  {
   "cell_type": "code",
   "execution_count": 1,
   "metadata": {},
   "outputs": [],
   "source": [
    "import pandas as pd\n",
    "import matplotlib.pyplot as plt\n",
    "%matplotlib inline \n",
    "import seaborn as sns"
   ]
  },
  {
   "cell_type": "code",
   "execution_count": 38,
   "metadata": {},
   "outputs": [
    {
     "data": {
      "text/html": [
       "<div>\n",
       "<style scoped>\n",
       "    .dataframe tbody tr th:only-of-type {\n",
       "        vertical-align: middle;\n",
       "    }\n",
       "\n",
       "    .dataframe tbody tr th {\n",
       "        vertical-align: top;\n",
       "    }\n",
       "\n",
       "    .dataframe thead th {\n",
       "        text-align: right;\n",
       "    }\n",
       "</style>\n",
       "<table border=\"1\" class=\"dataframe\">\n",
       "  <thead>\n",
       "    <tr style=\"text-align: right;\">\n",
       "      <th></th>\n",
       "      <th>PassengerId</th>\n",
       "      <th>Survived</th>\n",
       "      <th>Pclass</th>\n",
       "      <th>Name</th>\n",
       "      <th>Sex</th>\n",
       "      <th>Age</th>\n",
       "      <th>SibSp</th>\n",
       "      <th>Parch</th>\n",
       "      <th>Ticket</th>\n",
       "      <th>Fare</th>\n",
       "      <th>Cabin</th>\n",
       "      <th>Embarked</th>\n",
       "    </tr>\n",
       "  </thead>\n",
       "  <tbody>\n",
       "    <tr>\n",
       "      <th>0</th>\n",
       "      <td>1</td>\n",
       "      <td>0</td>\n",
       "      <td>3</td>\n",
       "      <td>Braund, Mr. Owen Harris</td>\n",
       "      <td>male</td>\n",
       "      <td>22.0</td>\n",
       "      <td>1</td>\n",
       "      <td>0</td>\n",
       "      <td>A/5 21171</td>\n",
       "      <td>7.2500</td>\n",
       "      <td>NaN</td>\n",
       "      <td>S</td>\n",
       "    </tr>\n",
       "    <tr>\n",
       "      <th>1</th>\n",
       "      <td>2</td>\n",
       "      <td>1</td>\n",
       "      <td>1</td>\n",
       "      <td>Cumings, Mrs. John Bradley (Florence Briggs Th...</td>\n",
       "      <td>female</td>\n",
       "      <td>38.0</td>\n",
       "      <td>1</td>\n",
       "      <td>0</td>\n",
       "      <td>PC 17599</td>\n",
       "      <td>71.2833</td>\n",
       "      <td>C85</td>\n",
       "      <td>C</td>\n",
       "    </tr>\n",
       "    <tr>\n",
       "      <th>2</th>\n",
       "      <td>3</td>\n",
       "      <td>1</td>\n",
       "      <td>3</td>\n",
       "      <td>Heikkinen, Miss. Laina</td>\n",
       "      <td>female</td>\n",
       "      <td>26.0</td>\n",
       "      <td>0</td>\n",
       "      <td>0</td>\n",
       "      <td>STON/O2. 3101282</td>\n",
       "      <td>7.9250</td>\n",
       "      <td>NaN</td>\n",
       "      <td>S</td>\n",
       "    </tr>\n",
       "    <tr>\n",
       "      <th>3</th>\n",
       "      <td>4</td>\n",
       "      <td>1</td>\n",
       "      <td>1</td>\n",
       "      <td>Futrelle, Mrs. Jacques Heath (Lily May Peel)</td>\n",
       "      <td>female</td>\n",
       "      <td>35.0</td>\n",
       "      <td>1</td>\n",
       "      <td>0</td>\n",
       "      <td>113803</td>\n",
       "      <td>53.1000</td>\n",
       "      <td>C123</td>\n",
       "      <td>S</td>\n",
       "    </tr>\n",
       "    <tr>\n",
       "      <th>4</th>\n",
       "      <td>5</td>\n",
       "      <td>0</td>\n",
       "      <td>3</td>\n",
       "      <td>Allen, Mr. William Henry</td>\n",
       "      <td>male</td>\n",
       "      <td>35.0</td>\n",
       "      <td>0</td>\n",
       "      <td>0</td>\n",
       "      <td>373450</td>\n",
       "      <td>8.0500</td>\n",
       "      <td>NaN</td>\n",
       "      <td>S</td>\n",
       "    </tr>\n",
       "  </tbody>\n",
       "</table>\n",
       "</div>"
      ],
      "text/plain": [
       "   PassengerId  Survived  Pclass  \\\n",
       "0            1         0       3   \n",
       "1            2         1       1   \n",
       "2            3         1       3   \n",
       "3            4         1       1   \n",
       "4            5         0       3   \n",
       "\n",
       "                                                Name     Sex   Age  SibSp  \\\n",
       "0                            Braund, Mr. Owen Harris    male  22.0      1   \n",
       "1  Cumings, Mrs. John Bradley (Florence Briggs Th...  female  38.0      1   \n",
       "2                             Heikkinen, Miss. Laina  female  26.0      0   \n",
       "3       Futrelle, Mrs. Jacques Heath (Lily May Peel)  female  35.0      1   \n",
       "4                           Allen, Mr. William Henry    male  35.0      0   \n",
       "\n",
       "   Parch            Ticket     Fare Cabin Embarked  \n",
       "0      0         A/5 21171   7.2500   NaN        S  \n",
       "1      0          PC 17599  71.2833   C85        C  \n",
       "2      0  STON/O2. 3101282   7.9250   NaN        S  \n",
       "3      0            113803  53.1000  C123        S  \n",
       "4      0            373450   8.0500   NaN        S  "
      ]
     },
     "execution_count": 38,
     "metadata": {},
     "output_type": "execute_result"
    }
   ],
   "source": [
    "train=pd.read_csv(\"titanic_train.csv\")\n",
    "train.head()"
   ]
  },
  {
   "cell_type": "code",
   "execution_count": 3,
   "metadata": {},
   "outputs": [
    {
     "name": "stdout",
     "output_type": "stream",
     "text": [
      "<class 'pandas.core.frame.DataFrame'>\n",
      "RangeIndex: 891 entries, 0 to 890\n",
      "Data columns (total 12 columns):\n",
      " #   Column       Non-Null Count  Dtype  \n",
      "---  ------       --------------  -----  \n",
      " 0   PassengerId  891 non-null    int64  \n",
      " 1   Survived     891 non-null    int64  \n",
      " 2   Pclass       891 non-null    int64  \n",
      " 3   Name         891 non-null    object \n",
      " 4   Sex          891 non-null    object \n",
      " 5   Age          714 non-null    float64\n",
      " 6   SibSp        891 non-null    int64  \n",
      " 7   Parch        891 non-null    int64  \n",
      " 8   Ticket       891 non-null    object \n",
      " 9   Fare         891 non-null    float64\n",
      " 10  Cabin        204 non-null    object \n",
      " 11  Embarked     889 non-null    object \n",
      "dtypes: float64(2), int64(5), object(5)\n",
      "memory usage: 83.7+ KB\n"
     ]
    }
   ],
   "source": [
    "train.info()"
   ]
  },
  {
   "cell_type": "code",
   "execution_count": 4,
   "metadata": {},
   "outputs": [
    {
     "data": {
      "text/html": [
       "<div>\n",
       "<style scoped>\n",
       "    .dataframe tbody tr th:only-of-type {\n",
       "        vertical-align: middle;\n",
       "    }\n",
       "\n",
       "    .dataframe tbody tr th {\n",
       "        vertical-align: top;\n",
       "    }\n",
       "\n",
       "    .dataframe thead th {\n",
       "        text-align: right;\n",
       "    }\n",
       "</style>\n",
       "<table border=\"1\" class=\"dataframe\">\n",
       "  <thead>\n",
       "    <tr style=\"text-align: right;\">\n",
       "      <th></th>\n",
       "      <th>PassengerId</th>\n",
       "      <th>Survived</th>\n",
       "      <th>Pclass</th>\n",
       "      <th>Name</th>\n",
       "      <th>Sex</th>\n",
       "      <th>Age</th>\n",
       "      <th>SibSp</th>\n",
       "      <th>Parch</th>\n",
       "      <th>Ticket</th>\n",
       "      <th>Fare</th>\n",
       "      <th>Cabin</th>\n",
       "      <th>Embarked</th>\n",
       "    </tr>\n",
       "  </thead>\n",
       "  <tbody>\n",
       "    <tr>\n",
       "      <th>0</th>\n",
       "      <td>False</td>\n",
       "      <td>False</td>\n",
       "      <td>False</td>\n",
       "      <td>False</td>\n",
       "      <td>False</td>\n",
       "      <td>False</td>\n",
       "      <td>False</td>\n",
       "      <td>False</td>\n",
       "      <td>False</td>\n",
       "      <td>False</td>\n",
       "      <td>True</td>\n",
       "      <td>False</td>\n",
       "    </tr>\n",
       "    <tr>\n",
       "      <th>1</th>\n",
       "      <td>False</td>\n",
       "      <td>False</td>\n",
       "      <td>False</td>\n",
       "      <td>False</td>\n",
       "      <td>False</td>\n",
       "      <td>False</td>\n",
       "      <td>False</td>\n",
       "      <td>False</td>\n",
       "      <td>False</td>\n",
       "      <td>False</td>\n",
       "      <td>False</td>\n",
       "      <td>False</td>\n",
       "    </tr>\n",
       "    <tr>\n",
       "      <th>2</th>\n",
       "      <td>False</td>\n",
       "      <td>False</td>\n",
       "      <td>False</td>\n",
       "      <td>False</td>\n",
       "      <td>False</td>\n",
       "      <td>False</td>\n",
       "      <td>False</td>\n",
       "      <td>False</td>\n",
       "      <td>False</td>\n",
       "      <td>False</td>\n",
       "      <td>True</td>\n",
       "      <td>False</td>\n",
       "    </tr>\n",
       "    <tr>\n",
       "      <th>3</th>\n",
       "      <td>False</td>\n",
       "      <td>False</td>\n",
       "      <td>False</td>\n",
       "      <td>False</td>\n",
       "      <td>False</td>\n",
       "      <td>False</td>\n",
       "      <td>False</td>\n",
       "      <td>False</td>\n",
       "      <td>False</td>\n",
       "      <td>False</td>\n",
       "      <td>False</td>\n",
       "      <td>False</td>\n",
       "    </tr>\n",
       "    <tr>\n",
       "      <th>4</th>\n",
       "      <td>False</td>\n",
       "      <td>False</td>\n",
       "      <td>False</td>\n",
       "      <td>False</td>\n",
       "      <td>False</td>\n",
       "      <td>False</td>\n",
       "      <td>False</td>\n",
       "      <td>False</td>\n",
       "      <td>False</td>\n",
       "      <td>False</td>\n",
       "      <td>True</td>\n",
       "      <td>False</td>\n",
       "    </tr>\n",
       "    <tr>\n",
       "      <th>...</th>\n",
       "      <td>...</td>\n",
       "      <td>...</td>\n",
       "      <td>...</td>\n",
       "      <td>...</td>\n",
       "      <td>...</td>\n",
       "      <td>...</td>\n",
       "      <td>...</td>\n",
       "      <td>...</td>\n",
       "      <td>...</td>\n",
       "      <td>...</td>\n",
       "      <td>...</td>\n",
       "      <td>...</td>\n",
       "    </tr>\n",
       "    <tr>\n",
       "      <th>886</th>\n",
       "      <td>False</td>\n",
       "      <td>False</td>\n",
       "      <td>False</td>\n",
       "      <td>False</td>\n",
       "      <td>False</td>\n",
       "      <td>False</td>\n",
       "      <td>False</td>\n",
       "      <td>False</td>\n",
       "      <td>False</td>\n",
       "      <td>False</td>\n",
       "      <td>True</td>\n",
       "      <td>False</td>\n",
       "    </tr>\n",
       "    <tr>\n",
       "      <th>887</th>\n",
       "      <td>False</td>\n",
       "      <td>False</td>\n",
       "      <td>False</td>\n",
       "      <td>False</td>\n",
       "      <td>False</td>\n",
       "      <td>False</td>\n",
       "      <td>False</td>\n",
       "      <td>False</td>\n",
       "      <td>False</td>\n",
       "      <td>False</td>\n",
       "      <td>False</td>\n",
       "      <td>False</td>\n",
       "    </tr>\n",
       "    <tr>\n",
       "      <th>888</th>\n",
       "      <td>False</td>\n",
       "      <td>False</td>\n",
       "      <td>False</td>\n",
       "      <td>False</td>\n",
       "      <td>False</td>\n",
       "      <td>True</td>\n",
       "      <td>False</td>\n",
       "      <td>False</td>\n",
       "      <td>False</td>\n",
       "      <td>False</td>\n",
       "      <td>True</td>\n",
       "      <td>False</td>\n",
       "    </tr>\n",
       "    <tr>\n",
       "      <th>889</th>\n",
       "      <td>False</td>\n",
       "      <td>False</td>\n",
       "      <td>False</td>\n",
       "      <td>False</td>\n",
       "      <td>False</td>\n",
       "      <td>False</td>\n",
       "      <td>False</td>\n",
       "      <td>False</td>\n",
       "      <td>False</td>\n",
       "      <td>False</td>\n",
       "      <td>False</td>\n",
       "      <td>False</td>\n",
       "    </tr>\n",
       "    <tr>\n",
       "      <th>890</th>\n",
       "      <td>False</td>\n",
       "      <td>False</td>\n",
       "      <td>False</td>\n",
       "      <td>False</td>\n",
       "      <td>False</td>\n",
       "      <td>False</td>\n",
       "      <td>False</td>\n",
       "      <td>False</td>\n",
       "      <td>False</td>\n",
       "      <td>False</td>\n",
       "      <td>True</td>\n",
       "      <td>False</td>\n",
       "    </tr>\n",
       "  </tbody>\n",
       "</table>\n",
       "<p>891 rows × 12 columns</p>\n",
       "</div>"
      ],
      "text/plain": [
       "     PassengerId  Survived  Pclass   Name    Sex    Age  SibSp  Parch  Ticket  \\\n",
       "0          False     False   False  False  False  False  False  False   False   \n",
       "1          False     False   False  False  False  False  False  False   False   \n",
       "2          False     False   False  False  False  False  False  False   False   \n",
       "3          False     False   False  False  False  False  False  False   False   \n",
       "4          False     False   False  False  False  False  False  False   False   \n",
       "..           ...       ...     ...    ...    ...    ...    ...    ...     ...   \n",
       "886        False     False   False  False  False  False  False  False   False   \n",
       "887        False     False   False  False  False  False  False  False   False   \n",
       "888        False     False   False  False  False   True  False  False   False   \n",
       "889        False     False   False  False  False  False  False  False   False   \n",
       "890        False     False   False  False  False  False  False  False   False   \n",
       "\n",
       "      Fare  Cabin  Embarked  \n",
       "0    False   True     False  \n",
       "1    False  False     False  \n",
       "2    False   True     False  \n",
       "3    False  False     False  \n",
       "4    False   True     False  \n",
       "..     ...    ...       ...  \n",
       "886  False   True     False  \n",
       "887  False  False     False  \n",
       "888  False   True     False  \n",
       "889  False  False     False  \n",
       "890  False   True     False  \n",
       "\n",
       "[891 rows x 12 columns]"
      ]
     },
     "execution_count": 4,
     "metadata": {},
     "output_type": "execute_result"
    }
   ],
   "source": [
    "train.isnull()"
   ]
  },
  {
   "cell_type": "code",
   "execution_count": 5,
   "metadata": {},
   "outputs": [
    {
     "data": {
      "text/plain": [
       "<matplotlib.axes._subplots.AxesSubplot at 0x261ee275208>"
      ]
     },
     "execution_count": 5,
     "metadata": {},
     "output_type": "execute_result"
    },
    {
     "data": {
      "image/png": "[encoded data removed]",
      "text/plain": [
       "<Figure size 432x288 with 1 Axes>"
      ]
     },
     "metadata": {
      "needs_background": "light"
     },
     "output_type": "display_data"
    }
   ],
   "source": [
    "sns.heatmap(train.isnull(),yticklabels=False,cbar=False,cmap='viridis')"
   ]
  },
  {
   "cell_type": "code",
   "execution_count": 6,
   "metadata": {},
   "outputs": [
    {
     "data": {
      "text/plain": [
       "<matplotlib.axes._subplots.AxesSubplot at 0x261ee58cb88>"
      ]
     },
     "execution_count": 6,
     "metadata": {},
     "output_type": "execute_result"
    },
    {
     "data": {
      "image/png": "[encoded data removed]",
      "text/plain": [
       "<Figure size 432x288 with 1 Axes>"
      ]
     },
     "metadata": {},
     "output_type": "display_data"
    }
   ],
   "source": [
    "sns.set_style('whitegrid')\n",
    "sns.countplot(x='Survived',data=train)"
   ]
  },
  {
   "cell_type": "code",
   "execution_count": 7,
   "metadata": {},
   "outputs": [
    {
     "data": {
      "text/plain": [
       "<matplotlib.axes._subplots.AxesSubplot at 0x261ee58c688>"
      ]
     },
     "execution_count": 7,
     "metadata": {},
     "output_type": "execute_result"
    },
    {
     "data": {
      "image/png": "[encoded data removed]",
      "text/plain": [
       "<Figure size 432x288 with 1 Axes>"
      ]
     },
     "metadata": {},
     "output_type": "display_data"
    }
   ],
   "source": [
    "sns.countplot(x='Survived',data=train,hue=\"Sex\",palette=\"RdBu_r\")"
   ]
  },
  {
   "cell_type": "code",
   "execution_count": 8,
   "metadata": {},
   "outputs": [
    {
     "data": {
      "text/plain": [
       "<matplotlib.axes._subplots.AxesSubplot at 0x261ee68e088>"
      ]
     },
     "execution_count": 8,
     "metadata": {},
     "output_type": "execute_result"
    },
    {
     "data": {
      "image/png": "[encoded data removed]",
      "text/plain": [
       "<Figure size 432x288 with 1 Axes>"
      ]
     },
     "metadata": {},
     "output_type": "display_data"
    }
   ],
   "source": [
    "sns.countplot(x='Survived',data=train,hue=\"Pclass\")"
   ]
  },
  {
   "cell_type": "code",
   "execution_count": 9,
   "metadata": {},
   "outputs": [
    {
     "data": {
      "text/plain": [
       "<matplotlib.axes._subplots.AxesSubplot at 0x261ee6e0748>"
      ]
     },
     "execution_count": 9,
     "metadata": {},
     "output_type": "execute_result"
    },
    {
     "data": {
      "image/png": "[encoded data removed]",
      "text/plain": [
       "<Figure size 432x288 with 1 Axes>"
      ]
     },
     "metadata": {},
     "output_type": "display_data"
    }
   ],
   "source": [
    "sns.distplot(train['Age'].dropna(),kde=False)"
   ]
  },
  {
   "cell_type": "code",
   "execution_count": 10,
   "metadata": {},
   "outputs": [
    {
     "data": {
      "text/plain": [
       "<matplotlib.axes._subplots.AxesSubplot at 0x261ee734f08>"
      ]
     },
     "execution_count": 10,
     "metadata": {},
     "output_type": "execute_result"
    },
    {
     "data": {
      "image/png": "[encoded data removed]",
      "text/plain": [
       "<Figure size 432x288 with 1 Axes>"
      ]
     },
     "metadata": {},
     "output_type": "display_data"
    }
   ],
   "source": [
    "sns.distplot(train['Age'])"
   ]
  },
  {
   "cell_type": "code",
   "execution_count": 11,
   "metadata": {},
   "outputs": [
    {
     "data": {
      "text/plain": [
       "<matplotlib.axes._subplots.AxesSubplot at 0x261ee7fad48>"
      ]
     },
     "execution_count": 11,
     "metadata": {},
     "output_type": "execute_result"
    },
    {
     "data": {
      "image/png": "[encoded data removed]",
      "text/plain": [
       "<Figure size 432x288 with 1 Axes>"
      ]
     },
     "metadata": {},
     "output_type": "display_data"
    }
   ],
   "source": [
    "train['Age'].plot.hist()"
   ]
  },
  {
   "cell_type": "code",
   "execution_count": 12,
   "metadata": {},
   "outputs": [
    {
     "data": {
      "text/plain": [
       "<matplotlib.axes._subplots.AxesSubplot at 0x261ee83ccc8>"
      ]
     },
     "execution_count": 12,
     "metadata": {},
     "output_type": "execute_result"
    },
    {
     "data": {
      "image/png": "[encoded data removed]",
      "text/plain": [
       "<Figure size 432x288 with 1 Axes>"
      ]
     },
     "metadata": {},
     "output_type": "display_data"
    }
   ],
   "source": [
    "sns.countplot(x='Pclass',data=train)"
   ]
  },
  {
   "cell_type": "code",
   "execution_count": 13,
   "metadata": {},
   "outputs": [
    {
     "data": {
      "text/plain": [
       "<matplotlib.axes._subplots.AxesSubplot at 0x261ee85f8c8>"
      ]
     },
     "execution_count": 13,
     "metadata": {},
     "output_type": "execute_result"
    },
    {
     "data": {
      "image/png": "[encoded data removed]",
      "text/plain": [
       "<Figure size 432x288 with 1 Axes>"
      ]
     },
     "metadata": {},
     "output_type": "display_data"
    }
   ],
   "source": [
    "sns.countplot(x='SibSp',data=train)"
   ]
  },
  {
   "cell_type": "code",
   "execution_count": 14,
   "metadata": {},
   "outputs": [
    {
     "data": {
      "text/html": [
       "        <script type=\"text/javascript\">\n",
       "        window.PlotlyConfig = {MathJaxConfig: 'local'};\n",
       "        if (window.MathJax) {MathJax.Hub.Config({SVG: {font: \"STIX-Web\"}});}\n",
       "        if (typeof require !== 'undefined') {\n",
       "        require.undef(\"plotly\");\n",
       "        requirejs.config({\n",
       "            paths: {\n",
       "                'plotly': ['https://cdn.plot.ly/plotly-latest.min']\n",
       "            }\n",
       "        });\n",
       "        require(['plotly'], function(Plotly) {\n",
       "            window._Plotly = Plotly;\n",
       "        });\n",
       "        }\n",
       "        </script>\n",
       "        "
      ]
     },
     "metadata": {},
     "output_type": "display_data"
    }
   ],
   "source": [
    "import cufflinks as cf\n",
    "cf.go_offline()"
   ]
  },
  {
   "cell_type": "code",
   "execution_count": 15,
   "metadata": {},
   "outputs": [
    {
     "data": {
      "text/plain": [
       "<matplotlib.axes._subplots.AxesSubplot at 0x261ee969148>"
      ]
     },
     "execution_count": 15,
     "metadata": {},
     "output_type": "execute_result"
    },
    {
     "data": {
      "image/png": "[encoded data removed]",
      "text/plain": [
       "<Figure size 432x288 with 1 Axes>"
      ]
     },
     "metadata": {},
     "output_type": "display_data"
    }
   ],
   "source": [
    "sns.boxplot(x='Pclass',y='Age',data=train)"
   ]
  },
  {
   "cell_type": "code",
   "execution_count": 39,
   "metadata": {},
   "outputs": [],
   "source": [
    "def immyte(cols):\n",
    "    age=cols[0]\n",
    "    pclass=cols[1]\n",
    "    if pd.isnull(age):\n",
    "        if pclass==1:\n",
    "            return 37\n",
    "        elif pclass ==2:\n",
    "            return 29\n",
    "        else :\n",
    "            return 24\n",
    "    else :\n",
    "        return age\n",
    "    "
   ]
  },
  {
   "cell_type": "code",
   "execution_count": 40,
   "metadata": {},
   "outputs": [],
   "source": [
    "train['Age']=train[['Age','Pclass']].apply(immyte,axis=1)"
   ]
  },
  {
   "cell_type": "code",
   "execution_count": 41,
   "metadata": {},
   "outputs": [
    {
     "data": {
      "text/plain": [
       "<matplotlib.axes._subplots.AxesSubplot at 0x261f090acc8>"
      ]
     },
     "execution_count": 41,
     "metadata": {},
     "output_type": "execute_result"
    },
    {
     "data": {
      "image/png": "[encoded data removed]",
      "text/plain": [
       "<Figure size 432x288 with 2 Axes>"
      ]
     },
     "metadata": {},
     "output_type": "display_data"
    }
   ],
   "source": [
    "sns.heatmap(train.isnull(),yticklabels=False)"
   ]
  },
  {
   "cell_type": "code",
   "execution_count": 26,
   "metadata": {},
   "outputs": [],
   "source": [
    "train.drop('Cabin',axis=1,inplace=True)"
   ]
  },
  {
   "cell_type": "code",
   "execution_count": 30,
   "metadata": {},
   "outputs": [],
   "source": [
    "sex=pd.get_dummies(train['Sex'],drop_first=True)"
   ]
  },
  {
   "cell_type": "code",
   "execution_count": 42,
   "metadata": {},
   "outputs": [
    {
     "data": {
      "text/html": [
       "<div>\n",
       "<style scoped>\n",
       "    .dataframe tbody tr th:only-of-type {\n",
       "        vertical-align: middle;\n",
       "    }\n",
       "\n",
       "    .dataframe tbody tr th {\n",
       "        vertical-align: top;\n",
       "    }\n",
       "\n",
       "    .dataframe thead th {\n",
       "        text-align: right;\n",
       "    }\n",
       "</style>\n",
       "<table border=\"1\" class=\"dataframe\">\n",
       "  <thead>\n",
       "    <tr style=\"text-align: right;\">\n",
       "      <th></th>\n",
       "      <th>PassengerId</th>\n",
       "      <th>Survived</th>\n",
       "      <th>Pclass</th>\n",
       "      <th>Name</th>\n",
       "      <th>Sex</th>\n",
       "      <th>Age</th>\n",
       "      <th>SibSp</th>\n",
       "      <th>Parch</th>\n",
       "      <th>Ticket</th>\n",
       "      <th>Fare</th>\n",
       "      <th>Cabin</th>\n",
       "      <th>Embarked</th>\n",
       "    </tr>\n",
       "  </thead>\n",
       "  <tbody>\n",
       "    <tr>\n",
       "      <th>0</th>\n",
       "      <td>1</td>\n",
       "      <td>0</td>\n",
       "      <td>3</td>\n",
       "      <td>Braund, Mr. Owen Harris</td>\n",
       "      <td>male</td>\n",
       "      <td>22.0</td>\n",
       "      <td>1</td>\n",
       "      <td>0</td>\n",
       "      <td>A/5 21171</td>\n",
       "      <td>7.2500</td>\n",
       "      <td>NaN</td>\n",
       "      <td>S</td>\n",
       "    </tr>\n",
       "    <tr>\n",
       "      <th>1</th>\n",
       "      <td>2</td>\n",
       "      <td>1</td>\n",
       "      <td>1</td>\n",
       "      <td>Cumings, Mrs. John Bradley (Florence Briggs Th...</td>\n",
       "      <td>female</td>\n",
       "      <td>38.0</td>\n",
       "      <td>1</td>\n",
       "      <td>0</td>\n",
       "      <td>PC 17599</td>\n",
       "      <td>71.2833</td>\n",
       "      <td>C85</td>\n",
       "      <td>C</td>\n",
       "    </tr>\n",
       "    <tr>\n",
       "      <th>2</th>\n",
       "      <td>3</td>\n",
       "      <td>1</td>\n",
       "      <td>3</td>\n",
       "      <td>Heikkinen, Miss. Laina</td>\n",
       "      <td>female</td>\n",
       "      <td>26.0</td>\n",
       "      <td>0</td>\n",
       "      <td>0</td>\n",
       "      <td>STON/O2. 3101282</td>\n",
       "      <td>7.9250</td>\n",
       "      <td>NaN</td>\n",
       "      <td>S</td>\n",
       "    </tr>\n",
       "    <tr>\n",
       "      <th>3</th>\n",
       "      <td>4</td>\n",
       "      <td>1</td>\n",
       "      <td>1</td>\n",
       "      <td>Futrelle, Mrs. Jacques Heath (Lily May Peel)</td>\n",
       "      <td>female</td>\n",
       "      <td>35.0</td>\n",
       "      <td>1</td>\n",
       "      <td>0</td>\n",
       "      <td>113803</td>\n",
       "      <td>53.1000</td>\n",
       "      <td>C123</td>\n",
       "      <td>S</td>\n",
       "    </tr>\n",
       "    <tr>\n",
       "      <th>4</th>\n",
       "      <td>5</td>\n",
       "      <td>0</td>\n",
       "      <td>3</td>\n",
       "      <td>Allen, Mr. William Henry</td>\n",
       "      <td>male</td>\n",
       "      <td>35.0</td>\n",
       "      <td>0</td>\n",
       "      <td>0</td>\n",
       "      <td>373450</td>\n",
       "      <td>8.0500</td>\n",
       "      <td>NaN</td>\n",
       "      <td>S</td>\n",
       "    </tr>\n",
       "  </tbody>\n",
       "</table>\n",
       "</div>"
      ],
      "text/plain": [
       "   PassengerId  Survived  Pclass  \\\n",
       "0            1         0       3   \n",
       "1            2         1       1   \n",
       "2            3         1       3   \n",
       "3            4         1       1   \n",
       "4            5         0       3   \n",
       "\n",
       "                                                Name     Sex   Age  SibSp  \\\n",
       "0                            Braund, Mr. Owen Harris    male  22.0      1   \n",
       "1  Cumings, Mrs. John Bradley (Florence Briggs Th...  female  38.0      1   \n",
       "2                             Heikkinen, Miss. Laina  female  26.0      0   \n",
       "3       Futrelle, Mrs. Jacques Heath (Lily May Peel)  female  35.0      1   \n",
       "4                           Allen, Mr. William Henry    male  35.0      0   \n",
       "\n",
       "   Parch            Ticket     Fare Cabin Embarked  \n",
       "0      0         A/5 21171   7.2500   NaN        S  \n",
       "1      0          PC 17599  71.2833   C85        C  \n",
       "2      0  STON/O2. 3101282   7.9250   NaN        S  \n",
       "3      0            113803  53.1000  C123        S  \n",
       "4      0            373450   8.0500   NaN        S  "
      ]
     },
     "execution_count": 42,
     "metadata": {},
     "output_type": "execute_result"
    }
   ],
   "source": [
    "train.head()"
   ]
  },
  {
   "cell_type": "code",
   "execution_count": 31,
   "metadata": {},
   "outputs": [],
   "source": [
    "embarked=pd.get_dummies(train['Embarked'],drop_first=True)"
   ]
  },
  {
   "cell_type": "code",
   "execution_count": 43,
   "metadata": {},
   "outputs": [],
   "source": [
    "train_m=pd.concat([train,sex,embarked],axis=1)"
   ]
  },
  {
   "cell_type": "code",
   "execution_count": 44,
   "metadata": {},
   "outputs": [
    {
     "data": {
      "text/html": [
       "<div>\n",
       "<style scoped>\n",
       "    .dataframe tbody tr th:only-of-type {\n",
       "        vertical-align: middle;\n",
       "    }\n",
       "\n",
       "    .dataframe tbody tr th {\n",
       "        vertical-align: top;\n",
       "    }\n",
       "\n",
       "    .dataframe thead th {\n",
       "        text-align: right;\n",
       "    }\n",
       "</style>\n",
       "<table border=\"1\" class=\"dataframe\">\n",
       "  <thead>\n",
       "    <tr style=\"text-align: right;\">\n",
       "      <th></th>\n",
       "      <th>PassengerId</th>\n",
       "      <th>Survived</th>\n",
       "      <th>Pclass</th>\n",
       "      <th>Name</th>\n",
       "      <th>Sex</th>\n",
       "      <th>Age</th>\n",
       "      <th>SibSp</th>\n",
       "      <th>Parch</th>\n",
       "      <th>Ticket</th>\n",
       "      <th>Fare</th>\n",
       "      <th>Cabin</th>\n",
       "      <th>Embarked</th>\n",
       "      <th>male</th>\n",
       "      <th>Q</th>\n",
       "      <th>S</th>\n",
       "    </tr>\n",
       "  </thead>\n",
       "  <tbody>\n",
       "    <tr>\n",
       "      <th>0</th>\n",
       "      <td>1</td>\n",
       "      <td>0</td>\n",
       "      <td>3</td>\n",
       "      <td>Braund, Mr. Owen Harris</td>\n",
       "      <td>male</td>\n",
       "      <td>22.0</td>\n",
       "      <td>1</td>\n",
       "      <td>0</td>\n",
       "      <td>A/5 21171</td>\n",
       "      <td>7.2500</td>\n",
       "      <td>NaN</td>\n",
       "      <td>S</td>\n",
       "      <td>1</td>\n",
       "      <td>0</td>\n",
       "      <td>1</td>\n",
       "    </tr>\n",
       "    <tr>\n",
       "      <th>1</th>\n",
       "      <td>2</td>\n",
       "      <td>1</td>\n",
       "      <td>1</td>\n",
       "      <td>Cumings, Mrs. John Bradley (Florence Briggs Th...</td>\n",
       "      <td>female</td>\n",
       "      <td>38.0</td>\n",
       "      <td>1</td>\n",
       "      <td>0</td>\n",
       "      <td>PC 17599</td>\n",
       "      <td>71.2833</td>\n",
       "      <td>C85</td>\n",
       "      <td>C</td>\n",
       "      <td>0</td>\n",
       "      <td>0</td>\n",
       "      <td>0</td>\n",
       "    </tr>\n",
       "    <tr>\n",
       "      <th>2</th>\n",
       "      <td>3</td>\n",
       "      <td>1</td>\n",
       "      <td>3</td>\n",
       "      <td>Heikkinen, Miss. Laina</td>\n",
       "      <td>female</td>\n",
       "      <td>26.0</td>\n",
       "      <td>0</td>\n",
       "      <td>0</td>\n",
       "      <td>STON/O2. 3101282</td>\n",
       "      <td>7.9250</td>\n",
       "      <td>NaN</td>\n",
       "      <td>S</td>\n",
       "      <td>0</td>\n",
       "      <td>0</td>\n",
       "      <td>1</td>\n",
       "    </tr>\n",
       "    <tr>\n",
       "      <th>3</th>\n",
       "      <td>4</td>\n",
       "      <td>1</td>\n",
       "      <td>1</td>\n",
       "      <td>Futrelle, Mrs. Jacques Heath (Lily May Peel)</td>\n",
       "      <td>female</td>\n",
       "      <td>35.0</td>\n",
       "      <td>1</td>\n",
       "      <td>0</td>\n",
       "      <td>113803</td>\n",
       "      <td>53.1000</td>\n",
       "      <td>C123</td>\n",
       "      <td>S</td>\n",
       "      <td>0</td>\n",
       "      <td>0</td>\n",
       "      <td>1</td>\n",
       "    </tr>\n",
       "    <tr>\n",
       "      <th>4</th>\n",
       "      <td>5</td>\n",
       "      <td>0</td>\n",
       "      <td>3</td>\n",
       "      <td>Allen, Mr. William Henry</td>\n",
       "      <td>male</td>\n",
       "      <td>35.0</td>\n",
       "      <td>0</td>\n",
       "      <td>0</td>\n",
       "      <td>373450</td>\n",
       "      <td>8.0500</td>\n",
       "      <td>NaN</td>\n",
       "      <td>S</td>\n",
       "      <td>1</td>\n",
       "      <td>0</td>\n",
       "      <td>1</td>\n",
       "    </tr>\n",
       "    <tr>\n",
       "      <th>...</th>\n",
       "      <td>...</td>\n",
       "      <td>...</td>\n",
       "      <td>...</td>\n",
       "      <td>...</td>\n",
       "      <td>...</td>\n",
       "      <td>...</td>\n",
       "      <td>...</td>\n",
       "      <td>...</td>\n",
       "      <td>...</td>\n",
       "      <td>...</td>\n",
       "      <td>...</td>\n",
       "      <td>...</td>\n",
       "      <td>...</td>\n",
       "      <td>...</td>\n",
       "      <td>...</td>\n",
       "    </tr>\n",
       "    <tr>\n",
       "      <th>886</th>\n",
       "      <td>887</td>\n",
       "      <td>0</td>\n",
       "      <td>2</td>\n",
       "      <td>Montvila, Rev. Juozas</td>\n",
       "      <td>male</td>\n",
       "      <td>27.0</td>\n",
       "      <td>0</td>\n",
       "      <td>0</td>\n",
       "      <td>211536</td>\n",
       "      <td>13.0000</td>\n",
       "      <td>NaN</td>\n",
       "      <td>S</td>\n",
       "      <td>1</td>\n",
       "      <td>0</td>\n",
       "      <td>1</td>\n",
       "    </tr>\n",
       "    <tr>\n",
       "      <th>887</th>\n",
       "      <td>888</td>\n",
       "      <td>1</td>\n",
       "      <td>1</td>\n",
       "      <td>Graham, Miss. Margaret Edith</td>\n",
       "      <td>female</td>\n",
       "      <td>19.0</td>\n",
       "      <td>0</td>\n",
       "      <td>0</td>\n",
       "      <td>112053</td>\n",
       "      <td>30.0000</td>\n",
       "      <td>B42</td>\n",
       "      <td>S</td>\n",
       "      <td>0</td>\n",
       "      <td>0</td>\n",
       "      <td>1</td>\n",
       "    </tr>\n",
       "    <tr>\n",
       "      <th>888</th>\n",
       "      <td>889</td>\n",
       "      <td>0</td>\n",
       "      <td>3</td>\n",
       "      <td>Johnston, Miss. Catherine Helen \"Carrie\"</td>\n",
       "      <td>female</td>\n",
       "      <td>24.0</td>\n",
       "      <td>1</td>\n",
       "      <td>2</td>\n",
       "      <td>W./C. 6607</td>\n",
       "      <td>23.4500</td>\n",
       "      <td>NaN</td>\n",
       "      <td>S</td>\n",
       "      <td>0</td>\n",
       "      <td>0</td>\n",
       "      <td>1</td>\n",
       "    </tr>\n",
       "    <tr>\n",
       "      <th>889</th>\n",
       "      <td>890</td>\n",
       "      <td>1</td>\n",
       "      <td>1</td>\n",
       "      <td>Behr, Mr. Karl Howell</td>\n",
       "      <td>male</td>\n",
       "      <td>26.0</td>\n",
       "      <td>0</td>\n",
       "      <td>0</td>\n",
       "      <td>111369</td>\n",
       "      <td>30.0000</td>\n",
       "      <td>C148</td>\n",
       "      <td>C</td>\n",
       "      <td>1</td>\n",
       "      <td>0</td>\n",
       "      <td>0</td>\n",
       "    </tr>\n",
       "    <tr>\n",
       "      <th>890</th>\n",
       "      <td>891</td>\n",
       "      <td>0</td>\n",
       "      <td>3</td>\n",
       "      <td>Dooley, Mr. Patrick</td>\n",
       "      <td>male</td>\n",
       "      <td>32.0</td>\n",
       "      <td>0</td>\n",
       "      <td>0</td>\n",
       "      <td>370376</td>\n",
       "      <td>7.7500</td>\n",
       "      <td>NaN</td>\n",
       "      <td>Q</td>\n",
       "      <td>1</td>\n",
       "      <td>1</td>\n",
       "      <td>0</td>\n",
       "    </tr>\n",
       "  </tbody>\n",
       "</table>\n",
       "<p>891 rows × 15 columns</p>\n",
       "</div>"
      ],
      "text/plain": [
       "     PassengerId  Survived  Pclass  \\\n",
       "0              1         0       3   \n",
       "1              2         1       1   \n",
       "2              3         1       3   \n",
       "3              4         1       1   \n",
       "4              5         0       3   \n",
       "..           ...       ...     ...   \n",
       "886          887         0       2   \n",
       "887          888         1       1   \n",
       "888          889         0       3   \n",
       "889          890         1       1   \n",
       "890          891         0       3   \n",
       "\n",
       "                                                  Name     Sex   Age  SibSp  \\\n",
       "0                              Braund, Mr. Owen Harris    male  22.0      1   \n",
       "1    Cumings, Mrs. John Bradley (Florence Briggs Th...  female  38.0      1   \n",
       "2                               Heikkinen, Miss. Laina  female  26.0      0   \n",
       "3         Futrelle, Mrs. Jacques Heath (Lily May Peel)  female  35.0      1   \n",
       "4                             Allen, Mr. William Henry    male  35.0      0   \n",
       "..                                                 ...     ...   ...    ...   \n",
       "886                              Montvila, Rev. Juozas    male  27.0      0   \n",
       "887                       Graham, Miss. Margaret Edith  female  19.0      0   \n",
       "888           Johnston, Miss. Catherine Helen \"Carrie\"  female  24.0      1   \n",
       "889                              Behr, Mr. Karl Howell    male  26.0      0   \n",
       "890                                Dooley, Mr. Patrick    male  32.0      0   \n",
       "\n",
       "     Parch            Ticket     Fare Cabin Embarked  male  Q  S  \n",
       "0        0         A/5 21171   7.2500   NaN        S     1  0  1  \n",
       "1        0          PC 17599  71.2833   C85        C     0  0  0  \n",
       "2        0  STON/O2. 3101282   7.9250   NaN        S     0  0  1  \n",
       "3        0            113803  53.1000  C123        S     0  0  1  \n",
       "4        0            373450   8.0500   NaN        S     1  0  1  \n",
       "..     ...               ...      ...   ...      ...   ... .. ..  \n",
       "886      0            211536  13.0000   NaN        S     1  0  1  \n",
       "887      0            112053  30.0000   B42        S     0  0  1  \n",
       "888      2        W./C. 6607  23.4500   NaN        S     0  0  1  \n",
       "889      0            111369  30.0000  C148        C     1  0  0  \n",
       "890      0            370376   7.7500   NaN        Q     1  1  0  \n",
       "\n",
       "[891 rows x 15 columns]"
      ]
     },
     "execution_count": 44,
     "metadata": {},
     "output_type": "execute_result"
    }
   ],
   "source": [
    "train_m"
   ]
  },
  {
   "cell_type": "code",
   "execution_count": 47,
   "metadata": {},
   "outputs": [],
   "source": [
    "train_m.drop('Embarked',axis=1,inplace=True)"
   ]
  },
  {
   "cell_type": "code",
   "execution_count": 48,
   "metadata": {},
   "outputs": [],
   "source": [
    "train_m.drop('Cabin',axis=1,inplace=True)"
   ]
  },
  {
   "cell_type": "code",
   "execution_count": 50,
   "metadata": {},
   "outputs": [],
   "source": [
    "train_m.drop('Ticket',axis=1,inplace=True)"
   ]
  },
  {
   "cell_type": "code",
   "execution_count": 51,
   "metadata": {},
   "outputs": [],
   "source": [
    "train_m.drop('PassengerId',axis=1,inplace=True)"
   ]
  },
  {
   "cell_type": "code",
   "execution_count": 52,
   "metadata": {},
   "outputs": [],
   "source": [
    "train_m.drop('Name',axis=1,inplace=True)\n",
    "train_m.drop('Sex',axis=1,inplace=True)"
   ]
  },
  {
   "cell_type": "code",
   "execution_count": 55,
   "metadata": {},
   "outputs": [],
   "source": [
    "from sklearn.model_selection import train_test_split"
   ]
  },
  {
   "cell_type": "code",
   "execution_count": 64,
   "metadata": {},
   "outputs": [],
   "source": [
    "y=train['PassengerId']"
   ]
  },
  {
   "cell_type": "code",
   "execution_count": 65,
   "metadata": {},
   "outputs": [],
   "source": [
    "x_train,x_test,y_train,y_test=train_test_split(train_m,y,test_size=0.3,random_state=101)"
   ]
  },
  {
   "cell_type": "code",
   "execution_count": 67,
   "metadata": {},
   "outputs": [],
   "source": [
    "from sklearn.linear_model import LogisticRegression\n"
   ]
  },
  {
   "cell_type": "code",
   "execution_count": 68,
   "metadata": {},
   "outputs": [
    {
     "name": "stderr",
     "output_type": "stream",
     "text": [
      "C:\\ana\\lib\\site-packages\\sklearn\\linear_model\\_logistic.py:940: ConvergenceWarning:\n",
      "\n",
      "lbfgs failed to converge (status=1):\n",
      "STOP: TOTAL NO. of ITERATIONS REACHED LIMIT.\n",
      "\n",
      "Increase the number of iterations (max_iter) or scale the data as shown in:\n",
      "    https://scikit-learn.org/stable/modules/preprocessing.html\n",
      "Please also refer to the documentation for alternative solver options:\n",
      "    https://scikit-learn.org/stable/modules/linear_model.html#logistic-regression\n",
      "\n"
     ]
    },
    {
     "data": {
      "text/plain": [
       "LogisticRegression(C=1.0, class_weight=None, dual=False, fit_intercept=True,\n",
       "                   intercept_scaling=1, l1_ratio=None, max_iter=100,\n",
       "                   multi_class='auto', n_jobs=None, penalty='l2',\n",
       "                   random_state=None, solver='lbfgs', tol=0.0001, verbose=0,\n",
       "                   warm_start=False)"
      ]
     },
     "execution_count": 68,
     "metadata": {},
     "output_type": "execute_result"
    }
   ],
   "source": [
    "lr=LogisticRegression()\n",
    "lr.fit(x_train,y_train)"
   ]
  },
  {
   "cell_type": "code",
   "execution_count": 69,
   "metadata": {},
   "outputs": [],
   "source": [
    "predictions=lr.predict(x_test)"
   ]
  },
  {
   "cell_type": "code",
   "execution_count": 70,
   "metadata": {},
   "outputs": [],
   "source": [
    "from sklearn.metrics import classification_report"
   ]
  },
  {
   "cell_type": "code",
   "execution_count": 72,
   "metadata": {},
   "outputs": [
    {
     "name": "stdout",
     "output_type": "stream",
     "text": [
      "              precision    recall  f1-score   support\n",
      "\n",
      "           7       0.00      0.00      0.00       1.0\n",
      "           8       0.00      0.00      0.00       1.0\n",
      "           9       0.00      0.00      0.00       1.0\n",
      "          10       0.00      0.00      0.00       1.0\n",
      "          12       0.00      0.00      0.00       0.0\n",
      "          13       0.00      0.00      0.00       1.0\n",
      "          14       0.00      0.00      0.00       0.0\n",
      "          16       0.00      0.00      0.00       0.0\n",
      "          17       0.00      0.00      0.00       1.0\n",
      "          24       0.00      0.00      0.00       1.0\n",
      "          25       0.00      0.00      0.00       1.0\n",
      "          26       0.00      0.00      0.00       0.0\n",
      "          28       0.00      0.00      0.00       1.0\n",
      "          32       0.00      0.00      0.00       1.0\n",
      "          33       0.00      0.00      0.00       1.0\n",
      "          34       0.00      0.00      0.00       1.0\n",
      "          37       0.00      0.00      0.00       1.0\n",
      "          41       0.00      0.00      0.00       0.0\n",
      "          43       0.00      0.00      0.00       1.0\n",
      "          53       0.00      0.00      0.00       0.0\n",
      "          55       0.00      0.00      0.00       0.0\n",
      "          56       0.00      0.00      0.00       1.0\n",
      "          57       0.00      0.00      0.00       1.0\n",
      "          60       0.00      0.00      0.00       0.0\n",
      "          68       0.00      0.00      0.00       0.0\n",
      "          69       0.00      0.00      0.00       1.0\n",
      "          75       0.00      0.00      0.00       1.0\n",
      "          78       0.00      0.00      0.00       1.0\n",
      "          82       0.00      0.00      0.00       1.0\n",
      "          84       0.00      0.00      0.00       1.0\n",
      "          85       0.00      0.00      0.00       1.0\n",
      "          86       0.00      0.00      0.00       0.0\n",
      "          90       0.00      0.00      0.00       1.0\n",
      "          91       0.00      0.00      0.00       1.0\n",
      "          99       0.00      0.00      0.00       1.0\n",
      "         101       0.00      0.00      0.00       1.0\n",
      "         107       0.00      0.00      0.00       1.0\n",
      "         108       0.00      0.00      0.00       1.0\n",
      "         110       0.00      0.00      0.00       1.0\n",
      "         114       0.00      0.00      0.00       1.0\n",
      "         115       0.00      0.00      0.00       1.0\n",
      "         117       0.00      0.00      0.00       1.0\n",
      "         119       0.00      0.00      0.00       1.0\n",
      "         124       0.00      0.00      0.00       1.0\n",
      "         125       0.00      0.00      0.00       0.0\n",
      "         127       0.00      0.00      0.00       1.0\n",
      "         128       0.00      0.00      0.00       1.0\n",
      "         129       0.00      0.00      0.00       1.0\n",
      "         133       0.00      0.00      0.00       1.0\n",
      "         135       0.00      0.00      0.00       1.0\n",
      "         136       0.00      0.00      0.00       1.0\n",
      "         139       0.00      0.00      0.00       1.0\n",
      "         140       0.00      0.00      0.00       1.0\n",
      "         142       0.00      0.00      0.00       1.0\n",
      "         148       0.00      0.00      0.00       1.0\n",
      "         149       0.00      0.00      0.00       1.0\n",
      "         150       0.00      0.00      0.00       0.0\n",
      "         152       0.00      0.00      0.00       1.0\n",
      "         153       0.00      0.00      0.00       0.0\n",
      "         154       0.00      0.00      0.00       0.0\n",
      "         155       0.00      0.00      0.00       1.0\n",
      "         158       0.00      0.00      0.00       1.0\n",
      "         161       0.00      0.00      0.00       0.0\n",
      "         162       0.00      0.00      0.00       0.0\n",
      "         163       0.00      0.00      0.00       1.0\n",
      "         168       0.00      0.00      0.00       1.0\n",
      "         169       0.00      0.00      0.00       1.0\n",
      "         170       0.00      0.00      0.00       0.0\n",
      "         171       0.00      0.00      0.00       0.0\n",
      "         172       0.00      0.00      0.00       1.0\n",
      "         173       0.00      0.00      0.00       1.0\n",
      "         175       0.00      0.00      0.00       1.0\n",
      "         177       0.00      0.00      0.00       0.0\n",
      "         180       0.00      0.00      0.00       1.0\n",
      "         181       0.00      0.00      0.00       1.0\n",
      "         183       0.00      0.00      0.00       1.0\n",
      "         184       0.00      0.00      0.00       1.0\n",
      "         185       0.00      0.00      0.00       1.0\n",
      "         186       0.00      0.00      0.00       1.0\n",
      "         187       0.00      0.00      0.00       1.0\n",
      "         188       0.00      0.00      0.00       1.0\n",
      "         189       0.00      0.00      0.00       0.0\n",
      "         190       0.00      0.00      0.00       1.0\n",
      "         192       0.00      0.00      0.00       1.0\n",
      "         195       0.00      0.00      0.00       1.0\n",
      "         196       0.00      0.00      0.00       0.0\n",
      "         197       0.00      0.00      0.00       1.0\n",
      "         202       0.00      0.00      0.00       1.0\n",
      "         203       0.00      0.00      0.00       1.0\n",
      "         205       0.00      0.00      0.00       1.0\n",
      "         206       0.00      0.00      0.00       0.0\n",
      "         207       0.00      0.00      0.00       0.0\n",
      "         208       0.00      0.00      0.00       0.0\n",
      "         210       0.00      0.00      0.00       1.0\n",
      "         211       0.00      0.00      0.00       1.0\n",
      "         219       0.00      0.00      0.00       1.0\n",
      "         225       0.00      0.00      0.00       0.0\n",
      "         226       0.00      0.00      0.00       1.0\n",
      "         228       0.00      0.00      0.00       1.0\n",
      "         229       0.00      0.00      0.00       1.0\n",
      "         230       0.00      0.00      0.00       0.0\n",
      "         231       0.00      0.00      0.00       1.0\n",
      "         232       0.00      0.00      0.00       1.0\n",
      "         233       0.00      0.00      0.00       0.0\n",
      "         238       0.00      0.00      0.00       1.0\n",
      "         241       0.00      0.00      0.00       1.0\n",
      "         242       0.00      0.00      0.00       1.0\n",
      "         246       0.00      0.00      0.00       0.0\n",
      "         247       0.00      0.00      0.00       1.0\n",
      "         248       0.00      0.00      0.00       1.0\n",
      "         257       0.00      0.00      0.00       1.0\n",
      "         259       0.00      0.00      0.00       1.0\n",
      "         268       0.00      0.00      0.00       1.0\n",
      "         269       0.00      0.00      0.00       1.0\n",
      "         270       0.00      0.00      0.00       1.0\n",
      "         275       0.00      0.00      0.00       1.0\n",
      "         276       0.00      0.00      0.00       0.0\n",
      "         280       0.00      0.00      0.00       0.0\n",
      "         282       0.00      0.00      0.00       1.0\n",
      "         288       0.00      0.00      0.00       1.0\n",
      "         289       0.00      0.00      0.00       1.0\n",
      "         291       0.00      0.00      0.00       1.0\n",
      "         292       0.00      0.00      0.00       1.0\n",
      "         299       0.00      0.00      0.00       1.0\n",
      "         300       0.00      0.00      0.00       0.0\n",
      "         305       0.00      0.00      0.00       1.0\n",
      "         306       0.00      0.00      0.00       0.0\n",
      "         312       0.00      0.00      0.00       0.0\n",
      "         314       0.00      0.00      0.00       1.0\n",
      "         320       0.00      0.00      0.00       1.0\n",
      "         321       0.00      0.00      0.00       1.0\n",
      "         323       0.00      0.00      0.00       1.0\n",
      "         324       0.00      0.00      0.00       1.0\n",
      "         325       0.00      0.00      0.00       0.0\n",
      "         327       0.00      0.00      0.00       1.0\n",
      "         329       0.00      0.00      0.00       0.0\n",
      "         331       0.00      0.00      0.00       0.0\n",
      "         332       0.00      0.00      0.00       1.0\n",
      "         335       0.00      0.00      0.00       1.0\n",
      "         336       0.00      0.00      0.00       1.0\n",
      "         337       0.00      0.00      0.00       1.0\n",
      "         338       0.00      0.00      0.00       0.0\n",
      "         339       0.00      0.00      0.00       1.0\n",
      "         342       0.00      0.00      0.00       0.0\n",
      "         347       0.00      0.00      0.00       1.0\n",
      "         348       0.00      0.00      0.00       1.0\n",
      "         350       0.00      0.00      0.00       0.0\n",
      "         361       0.00      0.00      0.00       0.0\n",
      "         362       0.00      0.00      0.00       1.0\n",
      "         363       0.00      0.00      0.00       0.0\n",
      "         366       0.00      0.00      0.00       1.0\n",
      "         367       0.00      0.00      0.00       0.0\n",
      "         368       0.00      0.00      0.00       1.0\n",
      "         369       0.00      0.00      0.00       1.0\n",
      "         373       0.00      0.00      0.00       0.0\n",
      "         374       0.00      0.00      0.00       1.0\n",
      "         376       0.00      0.00      0.00       1.0\n",
      "         378       0.00      0.00      0.00       0.0\n",
      "         380       0.00      0.00      0.00       1.0\n",
      "         385       0.00      0.00      0.00       1.0\n",
      "         387       0.00      0.00      0.00       0.0\n",
      "         389       0.00      0.00      0.00       1.0\n",
      "         390       0.00      0.00      0.00       1.0\n",
      "         391       0.00      0.00      0.00       0.0\n",
      "         392       0.00      0.00      0.00       1.0\n",
      "         393       0.00      0.00      0.00       1.0\n",
      "         400       0.00      0.00      0.00       1.0\n",
      "         404       0.00      0.00      0.00       1.0\n",
      "         407       0.00      0.00      0.00       1.0\n",
      "         408       0.00      0.00      0.00       1.0\n",
      "         409       0.00      0.00      0.00       1.0\n",
      "         414       0.00      0.00      0.00       1.0\n",
      "         417       0.00      0.00      0.00       1.0\n",
      "         418       0.00      0.00      0.00       1.0\n",
      "         422       0.00      0.00      0.00       1.0\n",
      "         424       0.00      0.00      0.00       1.0\n",
      "         425       0.00      0.00      0.00       1.0\n",
      "         426       0.00      0.00      0.00       1.0\n",
      "         429       0.00      0.00      0.00       1.0\n",
      "         434       0.00      0.00      0.00       1.0\n",
      "         435       0.00      0.00      0.00       1.0\n",
      "         439       0.00      0.00      0.00       0.0\n",
      "         443       0.00      0.00      0.00       1.0\n",
      "         446       0.00      0.00      0.00       1.0\n",
      "         448       0.00      0.00      0.00       1.0\n",
      "         449       0.00      0.00      0.00       1.0\n",
      "         450       0.00      0.00      0.00       1.0\n",
      "         453       0.00      0.00      0.00       1.0\n",
      "         454       0.00      0.00      0.00       0.0\n",
      "         455       0.00      0.00      0.00       1.0\n",
      "         457       0.00      0.00      0.00       0.0\n",
      "         459       0.00      0.00      0.00       1.0\n",
      "         467       0.00      0.00      0.00       1.0\n",
      "         472       0.00      0.00      0.00       1.0\n",
      "         476       0.00      0.00      0.00       1.0\n",
      "         477       0.00      0.00      0.00       1.0\n",
      "         480       0.00      0.00      0.00       1.0\n",
      "         481       0.00      0.00      0.00       0.0\n",
      "         482       0.00      0.00      0.00       1.0\n",
      "         483       0.00      0.00      0.00       1.0\n",
      "         484       0.00      0.00      0.00       1.0\n",
      "         486       0.00      0.00      0.00       1.0\n",
      "         487       0.00      0.00      0.00       1.0\n",
      "         488       0.00      0.00      0.00       0.0\n",
      "         490       0.00      0.00      0.00       1.0\n",
      "         492       0.00      0.00      0.00       1.0\n",
      "         496       0.00      0.00      0.00       1.0\n",
      "         497       0.00      0.00      0.00       0.0\n",
      "         498       0.00      0.00      0.00       0.0\n",
      "         501       0.00      0.00      0.00       1.0\n",
      "         502       0.00      0.00      0.00       1.0\n",
      "         509       0.00      0.00      0.00       0.0\n",
      "         510       0.00      0.00      0.00       1.0\n",
      "         514       0.00      0.00      0.00       1.0\n",
      "         518       0.00      0.00      0.00       0.0\n",
      "         521       0.00      0.00      0.00       0.0\n",
      "         526       0.00      0.00      0.00       1.0\n",
      "         528       0.00      0.00      0.00       1.0\n",
      "         531       0.00      0.00      0.00       0.0\n",
      "         535       0.00      0.00      0.00       1.0\n",
      "         536       0.00      0.00      0.00       0.0\n",
      "         537       0.00      0.00      0.00       1.0\n",
      "         543       0.00      0.00      0.00       0.0\n",
      "         544       0.00      0.00      0.00       1.0\n",
      "         545       0.00      0.00      0.00       1.0\n",
      "         546       0.00      0.00      0.00       1.0\n",
      "         548       0.00      0.00      0.00       1.0\n",
      "         549       0.00      0.00      0.00       1.0\n",
      "         551       0.00      0.00      0.00       1.0\n",
      "         552       0.00      0.00      0.00       1.0\n",
      "         554       0.00      0.00      0.00       1.0\n",
      "         558       0.00      0.00      0.00       0.0\n",
      "         560       0.00      0.00      0.00       0.0\n",
      "         561       0.00      0.00      0.00       1.0\n",
      "         563       0.00      0.00      0.00       1.0\n",
      "         564       0.00      0.00      0.00       1.0\n",
      "         567       0.00      0.00      0.00       0.0\n",
      "         568       0.00      0.00      0.00       1.0\n",
      "         574       0.00      0.00      0.00       1.0\n",
      "         577       0.00      0.00      0.00       1.0\n",
      "         583       0.00      0.00      0.00       0.0\n",
      "         586       0.00      0.00      0.00       1.0\n",
      "         587       0.00      0.00      0.00       1.0\n",
      "         588       0.00      0.00      0.00       0.0\n",
      "         592       0.00      0.00      0.00       0.0\n",
      "         596       0.00      0.00      0.00       0.0\n",
      "         598       0.00      0.00      0.00       0.0\n",
      "         604       0.00      0.00      0.00       1.0\n",
      "         605       0.00      0.00      0.00       1.0\n",
      "         606       0.00      0.00      0.00       1.0\n",
      "         609       0.00      0.00      0.00       1.0\n",
      "         610       0.00      0.00      0.00       0.0\n",
      "         611       0.00      0.00      0.00       1.0\n",
      "         615       0.00      0.00      0.00       1.0\n",
      "         617       0.00      0.00      0.00       1.0\n",
      "         619       0.00      0.00      0.00       1.0\n",
      "         621       0.00      0.00      0.00       1.0\n",
      "         626       0.00      0.00      0.00       0.0\n",
      "         627       0.00      0.00      0.00       0.0\n",
      "         631       0.00      0.00      0.00       1.0\n",
      "         632       0.00      0.00      0.00       1.0\n",
      "         637       0.00      0.00      0.00       1.0\n",
      "         638       0.00      0.00      0.00       1.0\n",
      "         640       0.00      0.00      0.00       1.0\n",
      "         643       0.00      0.00      0.00       0.0\n",
      "         646       0.00      0.00      0.00       1.0\n",
      "         648       0.00      0.00      0.00       1.0\n",
      "         660       0.00      0.00      0.00       0.0\n",
      "         661       0.00      0.00      0.00       0.0\n",
      "         669       0.00      0.00      0.00       1.0\n",
      "         670       0.00      0.00      0.00       1.0\n",
      "         673       0.00      0.00      0.00       1.0\n",
      "         675       0.00      0.00      0.00       1.0\n",
      "         679       0.00      0.00      0.00       0.0\n",
      "         680       0.00      0.00      0.00       1.0\n",
      "         681       0.00      0.00      0.00       1.0\n",
      "         685       0.00      0.00      0.00       0.0\n",
      "         689       0.00      0.00      0.00       1.0\n",
      "         690       0.00      0.00      0.00       1.0\n",
      "         694       0.00      0.00      0.00       1.0\n",
      "         695       0.00      0.00      0.00       1.0\n",
      "         696       0.00      0.00      0.00       1.0\n",
      "         699       0.00      0.00      0.00       0.0\n",
      "         700       0.00      0.00      0.00       1.0\n",
      "         701       0.00      0.00      0.00       1.0\n",
      "         706       0.00      0.00      0.00       1.0\n",
      "         707       0.00      0.00      0.00       1.0\n",
      "         716       0.00      0.00      0.00       1.0\n",
      "         718       0.00      0.00      0.00       1.0\n",
      "         719       0.00      0.00      0.00       1.0\n",
      "         720       0.00      0.00      0.00       1.0\n",
      "         721       0.00      0.00      0.00       1.0\n",
      "         724       0.00      0.00      0.00       1.0\n",
      "         725       0.00      0.00      0.00       1.0\n",
      "         727       0.00      0.00      0.00       0.0\n",
      "         728       0.00      0.00      0.00       1.0\n",
      "         730       0.00      0.00      0.00       1.0\n",
      "         731       0.00      0.00      0.00       1.0\n",
      "         734       0.00      0.00      0.00       1.0\n",
      "         736       0.00      0.00      0.00       0.0\n",
      "         737       0.00      0.00      0.00       1.0\n",
      "         738       0.00      0.00      0.00       0.0\n",
      "         739       0.00      0.00      0.00       1.0\n",
      "         741       0.00      0.00      0.00       1.0\n",
      "         746       0.00      0.00      0.00       0.0\n",
      "         749       0.00      0.00      0.00       1.0\n",
      "         752       0.00      0.00      0.00       1.0\n",
      "         754       0.00      0.00      0.00       1.0\n",
      "         755       0.00      0.00      0.00       0.0\n",
      "         757       0.00      0.00      0.00       1.0\n",
      "         760       0.00      0.00      0.00       1.0\n",
      "         762       0.00      0.00      0.00       1.0\n",
      "         764       0.00      0.00      0.00       1.0\n",
      "         766       0.00      0.00      0.00       1.0\n",
      "         768       0.00      0.00      0.00       1.0\n",
      "         772       0.00      0.00      0.00       1.0\n",
      "         773       0.00      0.00      0.00       0.0\n",
      "         775       0.00      0.00      0.00       0.0\n",
      "         778       0.00      0.00      0.00       1.0\n",
      "         782       0.00      0.00      0.00       1.0\n",
      "         785       0.00      0.00      0.00       1.0\n",
      "         787       0.00      0.00      0.00       1.0\n",
      "         789       0.00      0.00      0.00       1.0\n",
      "         790       0.00      0.00      0.00       1.0\n",
      "         792       0.00      0.00      0.00       1.0\n",
      "         793       0.00      0.00      0.00       0.0\n",
      "         794       0.00      0.00      0.00       1.0\n",
      "         799       0.00      0.00      0.00       1.0\n",
      "         800       0.00      0.00      0.00       1.0\n",
      "         805       0.00      0.00      0.00       1.0\n",
      "         809       0.00      0.00      0.00       1.0\n",
      "         812       0.00      0.00      0.00       0.0\n",
      "         814       0.00      0.00      0.00       0.0\n",
      "         818       0.00      0.00      0.00       1.0\n",
      "         821       0.00      0.00      0.00       1.0\n",
      "         826       0.00      0.00      0.00       1.0\n",
      "         828       0.00      0.00      0.00       1.0\n",
      "         829       0.00      0.00      0.00       1.0\n",
      "         830       0.00      0.00      0.00       1.0\n",
      "         835       0.00      0.00      0.00       1.0\n",
      "         838       0.00      0.00      0.00       1.0\n",
      "         839       0.00      0.00      0.00       0.0\n",
      "         846       0.00      0.00      0.00       1.0\n",
      "         848       0.00      0.00      0.00       1.0\n",
      "         850       0.00      0.00      0.00       0.0\n",
      "         852       0.00      0.00      0.00       0.0\n",
      "         857       0.00      0.00      0.00       1.0\n",
      "         858       0.00      0.00      0.00       1.0\n",
      "         861       0.00      0.00      0.00       0.0\n",
      "         865       0.00      0.00      0.00       1.0\n",
      "         867       0.00      0.00      0.00       1.0\n",
      "         868       0.00      0.00      0.00       1.0\n",
      "         870       0.00      0.00      0.00       1.0\n",
      "         874       0.00      0.00      0.00       1.0\n",
      "         878       0.00      0.00      0.00       0.0\n",
      "         880       0.00      0.00      0.00       1.0\n",
      "         882       0.00      0.00      0.00       1.0\n",
      "         886       0.00      0.00      0.00       0.0\n",
      "         889       0.00      0.00      0.00       1.0\n",
      "         890       0.00      0.00      0.00       1.0\n",
      "         891       0.00      0.00      0.00       0.0\n",
      "\n",
      "    accuracy                           0.00     268.0\n",
      "   macro avg       0.00      0.00      0.00     268.0\n",
      "weighted avg       0.00      0.00      0.00     268.0\n",
      "\n"
     ]
    },
    {
     "name": "stderr",
     "output_type": "stream",
     "text": [
      "C:\\ana\\lib\\site-packages\\sklearn\\metrics\\_classification.py:1272: UndefinedMetricWarning:\n",
      "\n",
      "Precision and F-score are ill-defined and being set to 0.0 in labels with no predicted samples. Use `zero_division` parameter to control this behavior.\n",
      "\n",
      "C:\\ana\\lib\\site-packages\\sklearn\\metrics\\_classification.py:1272: UndefinedMetricWarning:\n",
      "\n",
      "Recall and F-score are ill-defined and being set to 0.0 in labels with no true samples. Use `zero_division` parameter to control this behavior.\n",
      "\n"
     ]
    }
   ],
   "source": [
    "print(classification_report(y_test,predictions))"
   ]
  },
  {
   "cell_type": "code",
   "execution_count": null,
   "metadata": {},
   "outputs": [],
   "source": []
  }
 ],
 "metadata": {
  "kernelspec": {
   "display_name": "Python 3",
   "language": "python",
   "name": "python3"
  },
  "language_info": {
   "codemirror_mode": {
    "name": "ipython",
    "version": 3
   },
   "file_extension": ".py",
   "mimetype": "text/x-python",
   "name": "python",
   "nbconvert_exporter": "python",
   "pygments_lexer": "ipython3",
   "version": "3.7.4"
  }
 },
 "nbformat": 4,
 "nbformat_minor": 4
}
